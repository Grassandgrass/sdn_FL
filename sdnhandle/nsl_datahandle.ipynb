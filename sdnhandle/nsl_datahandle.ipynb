{
 "cells": [
  {
   "cell_type": "code",
   "execution_count": 1,
   "id": "277a84c7",
   "metadata": {},
   "outputs": [
    {
     "data": {
      "image/png": "[encoded data removed]",
      "text/plain": [
       "<Figure size 432x288 with 1 Axes>"
      ]
     },
     "metadata": {
      "needs_background": "light"
     },
     "output_type": "display_data"
    },
    {
     "data": {
      "image/png": "[encoded data removed]",
      "text/plain": [
       "<Figure size 432x288 with 1 Axes>"
      ]
     },
     "metadata": {
      "needs_background": "light"
     },
     "output_type": "display_data"
    }
   ],
   "source": [
    "from collections import defaultdict\n",
    "import os\n",
    "\n",
    "\n",
    "\n",
    "#STEP 1: LOAD DATA\n",
    "dataset_root = 'D://Project_Test/easyFL/benchmark/RAW_DATA/NSL-KDD'\n",
    "#train_x.describe()\n",
    "header_names = ['duration', 'protocol_type', 'service', 'flag', 'src_bytes', 'dst_bytes', 'land', 'wrong_fragment', 'urgent', 'hot', 'num_failed_logins', 'logged_in', 'num_compromised', 'root_shell', 'su_attempted', 'num_root', 'num_file_creations', 'num_shells', 'num_access_files', 'num_outbound_cmds', 'is_host_login', 'is_guest_login', 'count', 'srv_count', 'serror_rate', 'srv_serror_rate', 'rerror_rate', 'srv_rerror_rate', 'same_srv_rate', 'diff_srv_rate', 'srv_diff_host_rate', 'dst_host_count', 'dst_host_srv_count', 'dst_host_same_srv_rate', 'dst_host_diff_srv_rate', 'dst_host_same_src_port_rate', 'dst_host_srv_diff_host_rate', 'dst_host_serror_rate', 'dst_host_srv_serror_rate', 'dst_host_rerror_rate', 'dst_host_srv_rerror_rate', 'attack_type', 'success_pred']\n",
    "\n",
    "category = defaultdict(list)\n",
    "category['benign'].append('normal')\n",
    "\n",
    "with open('training_attack_types.txt', 'r') as f:\n",
    "\tfor line in f.readlines():\n",
    "\t\tattack, cat = line.strip().split(' ')\n",
    "\t\tcategory[cat].append(attack)\n",
    "#print(category)\n",
    "\n",
    "attack_mapping = dict((v,k) for k in category for v in category[k])\n",
    "#print(attack_mapping)\n",
    "\n",
    "#load train/test files\n",
    "train_file = os.path.join(dataset_root, 'KDDTrain+.txt')\n",
    "test_file = os.path.join(dataset_root, 'KDDTest+.txt')\n",
    "\n",
    "#READ TRAINING DATA\n",
    "import pandas as pd\n",
    "train_df = pd.read_csv(train_file, names=header_names)\n",
    "train_df['attack_category'] = train_df['attack_type'] \\\n",
    "\t.map(lambda x: attack_mapping[x])\n",
    "train_df.drop(['success_pred'], axis=1, inplace=True)\n",
    "\n",
    "test_df = pd.read_csv(test_file, names=header_names)\n",
    "test_df['attack_category'] = test_df['attack_type'] \\\n",
    ".map(lambda x: attack_mapping[x])\n",
    "test_df.drop(['success_pred'], axis=1, inplace=True)\n",
    "\n",
    "\n",
    "###STEP 2: UNDERSTAND DATA (visualize)\n",
    "import matplotlib.pyplot as plt\n",
    "train_attack_types = train_df['attack_type'].value_counts()\n",
    "train_attack_cats = train_df['attack_category'].value_counts()\n",
    "train_attack_types.plot(kind='barh')\n",
    "plt.show()\n",
    "train_attack_cats.plot(kind='barh')\n",
    "plt.show()\n"
   ]
  },
  {
   "cell_type": "code",
   "execution_count": 2,
   "id": "ad392de3",
   "metadata": {},
   "outputs": [
    {
     "name": "stdout",
     "output_type": "stream",
     "text": [
      "defaultdict(<class 'list'>, {'continuous': ['duration', 'src_bytes', 'dst_bytes', 'wrong_fragment', 'urgent', 'hot', 'num_failed_logins', 'num_compromised', 'root_shell', 'su_attempted', 'num_root', 'num_file_creations', 'num_shells', 'num_access_files', 'num_outbound_cmds', 'count', 'srv_count', 'serror_rate', 'srv_serror_rate', 'rerror_rate', 'srv_rerror_rate', 'same_srv_rate', 'diff_srv_rate', 'srv_diff_host_rate', 'dst_host_count', 'dst_host_srv_count', 'dst_host_same_srv_rate', 'dst_host_diff_srv_rate', 'dst_host_same_src_port_rate', 'dst_host_srv_diff_host_rate', 'dst_host_serror_rate', 'dst_host_srv_serror_rate', 'dst_host_rerror_rate', 'dst_host_srv_rerror_rate'], 'symbolic': ['protocol_type', 'service', 'flag', 'land', 'logged_in', 'is_host_login', 'is_guest_login']})\n"
     ]
    }
   ],
   "source": [
    "#DATA PREPARATION\n",
    "train_Y = train_df['attack_category']\n",
    "train_x_raw = train_df.drop(['attack_category','attack_type'], axis=1)\n",
    "test_Y = test_df['attack_category']\n",
    "test_x_raw = test_df.drop(['attack_category','attack_type'], axis=1)\n",
    "feature_names = defaultdict(list)\n",
    "with open('kddcup.names.txt', 'r') as f:\n",
    "\tfor line in f.readlines()[1:]:\n",
    "\t\tname, nature = line.strip()[:-1].split(': ')\n",
    "\t\tfeature_names[nature].append(name)\n",
    "print(feature_names)"
   ]
  },
  {
   "cell_type": "code",
   "execution_count": 3,
   "id": "5ab50e30",
   "metadata": {},
   "outputs": [],
   "source": [
    "#FEATURE ENGINEERING\n",
    "# Concatenate DataFrames\n",
    "combined_df_raw = pd.concat([train_x_raw, test_x_raw])\n",
    "# Keep track of continuous, binary, and nominal features\n",
    "continuous_features = feature_names['continuous']\n",
    "continuous_features.remove('root_shell')\t\t\t#Dataset has an error\n",
    "binary_features = ['land','logged_in','root_shell', 'su_attempted','is_host_login', 'is_guest_login']\n",
    "nominal_features = list(set(feature_names['symbolic']) - set(binary_features))\n",
    "# Generate dummy variables\n",
    "combined_df = pd.get_dummies(combined_df_raw, \\\n",
    "columns=feature_names['symbolic'], \\\n",
    "drop_first=True)\n",
    "# Separate into training and test sets again\n",
    "train_x = combined_df[:len(train_x_raw)]\n",
    "test_x = combined_df[len(train_x_raw):]\n",
    "# Keep track of dummy variables\n",
    "dummy_variables = list(set(train_x)-set(combined_df_raw))\n",
    "#train_x.describe()"
   ]
  },
  {
   "cell_type": "code",
   "execution_count": 4,
   "id": "dc75548f",
   "metadata": {
    "scrolled": true
   },
   "outputs": [
    {
     "name": "stderr",
     "output_type": "stream",
     "text": [
      "D:\\work\\Anaconda3\\lib\\site-packages\\pandas\\core\\frame.py:3678: SettingWithCopyWarning: \n",
      "A value is trying to be set on a copy of a slice from a DataFrame.\n",
      "Try using .loc[row_indexer,col_indexer] = value instead\n",
      "\n",
      "See the caveats in the documentation: https://pandas.pydata.org/pandas-docs/stable/user_guide/indexing.html#returning-a-view-versus-a-copy\n",
      "  self[col] = igetitem(value, i)\n",
      "D:\\work\\Anaconda3\\lib\\site-packages\\pandas\\core\\frame.py:3678: SettingWithCopyWarning: \n",
      "A value is trying to be set on a copy of a slice from a DataFrame.\n",
      "Try using .loc[row_indexer,col_indexer] = value instead\n",
      "\n",
      "See the caveats in the documentation: https://pandas.pydata.org/pandas-docs/stable/user_guide/indexing.html#returning-a-view-versus-a-copy\n",
      "  self[col] = igetitem(value, i)\n"
     ]
    }
   ],
   "source": [
    "#NORMALIZATION (src_bytes > num_failed_logs by 10^7)\n",
    "#what is normalization? show pictures\n",
    "from sklearn.preprocessing import StandardScaler\n",
    "# Fit StandardScaler to the training data\n",
    "standard_scaler = StandardScaler().fit(train_x[continuous_features])\n",
    "# Standardize training data\n",
    "train_x[continuous_features] = \\\n",
    "\tstandard_scaler.transform(train_x[continuous_features])\n",
    "# Standardize test data with scaler fitted to training data\n",
    "test_x[continuous_features] = \\\n",
    "\tstandard_scaler.transform(test_x[continuous_features])"
   ]
  },
  {
   "cell_type": "code",
   "execution_count": 5,
   "id": "e53dd982",
   "metadata": {},
   "outputs": [],
   "source": [
    "#STEP 5: CLASSIFICATION\n",
    "from sklearn.ensemble import RandomForestClassifier\n",
    "from sklearn.metrics import confusion_matrix, zero_one_loss\n",
    "\n",
    "\n",
    "classifier = RandomForestClassifier()\n",
    "classifier.fit(train_x, train_Y)\n",
    "pred_y = classifier.predict(test_x)"
   ]
  },
  {
   "cell_type": "code",
   "execution_count": 6,
   "id": "05f541c6",
   "metadata": {},
   "outputs": [],
   "source": [
    "from sklearn.metrics import confusion_matrix, classification_report,accuracy_score,f1_score"
   ]
  },
  {
   "cell_type": "code",
   "execution_count": 8,
   "id": "b88fe213",
   "metadata": {},
   "outputs": [
    {
     "name": "stdout",
     "output_type": "stream",
     "text": [
      "准确率: 0.7434794180269695\n",
      "混淆矩阵:\n",
      "[[9460   67  183    0    1]\n",
      " [1840 5727   69    0    0]\n",
      " [ 785  166 1472    0    0]\n",
      " [2471    0    2  100    1]\n",
      " [ 195    0    0    3    2]]\n",
      "分类报告:\n",
      "              precision    recall  f1-score   support\n",
      "\n",
      "      benign      0.641     0.974     0.773      9711\n",
      "         dos      0.961     0.750     0.842      7636\n",
      "       probe      0.853     0.608     0.710      2423\n",
      "         r2l      0.971     0.039     0.075      2574\n",
      "         u2r      0.500     0.010     0.020       200\n",
      "\n",
      "    accuracy                          0.743     22544\n",
      "   macro avg      0.785     0.476     0.484     22544\n",
      "weighted avg      0.809     0.743     0.703     22544\n",
      "\n",
      "f1_score  is 0.48395701994958334\n"
     ]
    }
   ],
   "source": [
    "target_names = ['benign', 'dos', 'probe', 'r2l', 'u2r']\n",
    "print(f'准确率: {accuracy_score(test_Y, pred_y)}')\n",
    "print(f'混淆矩阵:')\n",
    "print(confusion_matrix(test_Y, pred_y))\n",
    "print(f'分类报告:')\n",
    "print(classification_report(test_Y, pred_y, target_names=target_names, digits=3))\n",
    "f1 = f1_score(pred_y, test_Y, average='macro')\n",
    "print(f'f1_score  is {f1}')"
   ]
  },
  {
   "cell_type": "code",
   "execution_count": 9,
   "id": "6d74cf05",
   "metadata": {
    "scrolled": true
   },
   "outputs": [
    {
     "ename": "ModuleNotFoundError",
     "evalue": "No module named 'bayes_opt'",
     "output_type": "error",
     "traceback": [
      "\u001b[1;31m---------------------------------------------------------------------------\u001b[0m",
      "\u001b[1;31mModuleNotFoundError\u001b[0m                       Traceback (most recent call last)",
      "\u001b[1;32m~\\AppData\\Local\\Temp/ipykernel_28764/2278206094.py\u001b[0m in \u001b[0;36m<module>\u001b[1;34m\u001b[0m\n\u001b[0;32m      1\u001b[0m \u001b[1;32mfrom\u001b[0m \u001b[0msklearn\u001b[0m\u001b[1;33m.\u001b[0m\u001b[0mensemble\u001b[0m \u001b[1;32mimport\u001b[0m \u001b[0mRandomForestClassifier\u001b[0m\u001b[1;33m\u001b[0m\u001b[1;33m\u001b[0m\u001b[0m\n\u001b[0;32m      2\u001b[0m \u001b[1;31m# 贝叶斯调参优化随机森林\u001b[0m\u001b[1;33m\u001b[0m\u001b[1;33m\u001b[0m\u001b[0m\n\u001b[1;32m----> 3\u001b[1;33m \u001b[1;32mfrom\u001b[0m \u001b[0mbayes_opt\u001b[0m \u001b[1;32mimport\u001b[0m \u001b[0mBayesianOptimization\u001b[0m\u001b[1;33m\u001b[0m\u001b[1;33m\u001b[0m\u001b[0m\n\u001b[0m",
      "\u001b[1;31mModuleNotFoundError\u001b[0m: No module named 'bayes_opt'"
     ]
    }
   ],
   "source": [
    "from sklearn.ensemble import RandomForestClassifier\n",
    "# 贝叶斯调参优化随机森林\n",
    "from bayes_opt import BayesianOptimization"
   ]
  },
  {
   "cell_type": "code",
   "execution_count": null,
   "id": "b31e4999",
   "metadata": {},
   "outputs": [],
   "source": [
    "def RF_evaluate(n_estimators, max_depth, min_samples_split, min_samples_leaf):\n",
    "    val = cross_val_score(\n",
    "            RandomForestClassifier(n_estimators=int(n_estimators),\n",
    "                                   max_depth=int(max_depth),\n",
    "                                   min_samples_split=int(min_samples_split),\n",
    "                                   min_samples_leaf = int(min_samples_leaf),\n",
    "\n",
    "                                   random_state=2,\n",
    "                                   n_jobs=-1),\n",
    "            train_x, train_y, scoring='f1', cv=5\n",
    "    ).mean()\n",
    "\n",
    "    return val\n",
    "\n",
    "def flow_training():\n",
    "\n",
    "    # 确定取值空间\n",
    "    pbounds = {'n_estimators': (10, 300),  # 表示取值范围为10至300\n",
    "                   'max_depth': (5, 20),\n",
    "                   'min_samples_split': (2, 40),\n",
    "                   'min_samples_leaf': (1, 10)\n",
    "                }\n",
    "\n",
    "    RF_bo = BayesianOptimization(\n",
    "            f=self.RF_evaluate,  # 目标函数\n",
    "            pbounds=pbounds,  # 取值空间\n",
    "            verbose=2,  # verbose = 2 时打印全部，verbose = 1 时打印运行中发现的最大值，verbose = 0 将什么都不打印\n",
    "            random_state=1,\n",
    "    )\n",
    "\n",
    "    RF_bo.maximize()\n",
    "\n",
    "    print(RF_bo.max)\n",
    "    res = RF_bo.max\n",
    "    params_max = res['params']\n",
    "    print(params_max)\n",
    "    "
   ]
  },
  {
   "cell_type": "code",
   "execution_count": null,
   "id": "2e80a941",
   "metadata": {},
   "outputs": [],
   "source": [
    "flow_training()"
   ]
  },
  {
   "cell_type": "code",
   "execution_count": null,
   "id": "3cf92db1",
   "metadata": {},
   "outputs": [],
   "source": []
  },
  {
   "cell_type": "code",
   "execution_count": null,
   "id": "01a82592",
   "metadata": {},
   "outputs": [],
   "source": []
  }
 ],
 "metadata": {
  "kernelspec": {
   "display_name": "Python 3 (ipykernel)",
   "language": "python",
   "name": "python3"
  },
  "language_info": {
   "codemirror_mode": {
    "name": "ipython",
    "version": 3
   },
   "file_extension": ".py",
   "mimetype": "text/x-python",
   "name": "python",
   "nbconvert_exporter": "python",
   "pygments_lexer": "ipython3",
   "version": "3.9.7"
  }
 },
 "nbformat": 4,
 "nbformat_minor": 5
}
